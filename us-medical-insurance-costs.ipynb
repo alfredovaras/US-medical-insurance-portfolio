{
 "cells": [
  {
   "cell_type": "markdown",
   "metadata": {},
   "source": [
    "# U.S. Medical Insurance Costs"
   ]
  },
  {
   "cell_type": "code",
   "execution_count": 1,
   "metadata": {},
   "outputs": [],
   "source": [
    "import csv\n",
    "import pandas as pd"
   ]
  },
  {
   "cell_type": "code",
   "execution_count": 4,
   "metadata": {},
   "outputs": [
    {
     "data": {
      "text/html": [
       "<div>\n",
       "<style scoped>\n",
       "    .dataframe tbody tr th:only-of-type {\n",
       "        vertical-align: middle;\n",
       "    }\n",
       "\n",
       "    .dataframe tbody tr th {\n",
       "        vertical-align: top;\n",
       "    }\n",
       "\n",
       "    .dataframe thead th {\n",
       "        text-align: right;\n",
       "    }\n",
       "</style>\n",
       "<table border=\"1\" class=\"dataframe\">\n",
       "  <thead>\n",
       "    <tr style=\"text-align: right;\">\n",
       "      <th></th>\n",
       "      <th>age</th>\n",
       "      <th>sex</th>\n",
       "      <th>bmi</th>\n",
       "      <th>children</th>\n",
       "      <th>smoker</th>\n",
       "      <th>region</th>\n",
       "      <th>charges</th>\n",
       "    </tr>\n",
       "  </thead>\n",
       "  <tbody>\n",
       "    <tr>\n",
       "      <th>0</th>\n",
       "      <td>19</td>\n",
       "      <td>female</td>\n",
       "      <td>27.900</td>\n",
       "      <td>0</td>\n",
       "      <td>yes</td>\n",
       "      <td>southwest</td>\n",
       "      <td>16884.92400</td>\n",
       "    </tr>\n",
       "    <tr>\n",
       "      <th>1</th>\n",
       "      <td>18</td>\n",
       "      <td>male</td>\n",
       "      <td>33.770</td>\n",
       "      <td>1</td>\n",
       "      <td>no</td>\n",
       "      <td>southeast</td>\n",
       "      <td>1725.55230</td>\n",
       "    </tr>\n",
       "    <tr>\n",
       "      <th>2</th>\n",
       "      <td>28</td>\n",
       "      <td>male</td>\n",
       "      <td>33.000</td>\n",
       "      <td>3</td>\n",
       "      <td>no</td>\n",
       "      <td>southeast</td>\n",
       "      <td>4449.46200</td>\n",
       "    </tr>\n",
       "    <tr>\n",
       "      <th>3</th>\n",
       "      <td>33</td>\n",
       "      <td>male</td>\n",
       "      <td>22.705</td>\n",
       "      <td>0</td>\n",
       "      <td>no</td>\n",
       "      <td>northwest</td>\n",
       "      <td>21984.47061</td>\n",
       "    </tr>\n",
       "    <tr>\n",
       "      <th>4</th>\n",
       "      <td>32</td>\n",
       "      <td>male</td>\n",
       "      <td>28.880</td>\n",
       "      <td>0</td>\n",
       "      <td>no</td>\n",
       "      <td>northwest</td>\n",
       "      <td>3866.85520</td>\n",
       "    </tr>\n",
       "  </tbody>\n",
       "</table>\n",
       "</div>"
      ],
      "text/plain": [
       "   age     sex     bmi  children smoker     region      charges\n",
       "0   19  female  27.900         0    yes  southwest  16884.92400\n",
       "1   18    male  33.770         1     no  southeast   1725.55230\n",
       "2   28    male  33.000         3     no  southeast   4449.46200\n",
       "3   33    male  22.705         0     no  northwest  21984.47061\n",
       "4   32    male  28.880         0     no  northwest   3866.85520"
      ]
     },
     "execution_count": 4,
     "metadata": {},
     "output_type": "execute_result"
    }
   ],
   "source": [
    "insurance_df = pd.read_csv('insurance.csv')\n",
    "insurance_df.head()"
   ]
  },
  {
   "cell_type": "markdown",
   "metadata": {},
   "source": [
    "## Understanding the data in the insurance dataframe\n",
    "The data has the following information: \n",
    "- Patient age\n",
    "- Patient sex\n",
    "- Patient BMI\n",
    "- Patient number of children\n",
    "- Patient Smoking Status\n",
    "- Patient Location in the US\n",
    "- Patient yearly medical insurance cost\n",
    "\n",
    "Total 1338 rows, no missing data"
   ]
  },
  {
   "cell_type": "code",
   "execution_count": 11,
   "metadata": {},
   "outputs": [
    {
     "name": "stdout",
     "output_type": "stream",
     "text": [
      "<class 'pandas.core.frame.DataFrame'>\n",
      "RangeIndex: 1338 entries, 0 to 1337\n",
      "Data columns (total 7 columns):\n",
      " #   Column    Non-Null Count  Dtype  \n",
      "---  ------    --------------  -----  \n",
      " 0   age       1338 non-null   int64  \n",
      " 1   sex       1338 non-null   object \n",
      " 2   bmi       1338 non-null   float64\n",
      " 3   children  1338 non-null   int64  \n",
      " 4   smoker    1338 non-null   object \n",
      " 5   region    1338 non-null   object \n",
      " 6   charges   1338 non-null   float64\n",
      "dtypes: float64(2), int64(2), object(3)\n",
      "memory usage: 73.3+ KB\n"
     ]
    },
    {
     "data": {
      "text/html": [
       "<div>\n",
       "<style scoped>\n",
       "    .dataframe tbody tr th:only-of-type {\n",
       "        vertical-align: middle;\n",
       "    }\n",
       "\n",
       "    .dataframe tbody tr th {\n",
       "        vertical-align: top;\n",
       "    }\n",
       "\n",
       "    .dataframe thead th {\n",
       "        text-align: right;\n",
       "    }\n",
       "</style>\n",
       "<table border=\"1\" class=\"dataframe\">\n",
       "  <thead>\n",
       "    <tr style=\"text-align: right;\">\n",
       "      <th></th>\n",
       "      <th>age</th>\n",
       "      <th>bmi</th>\n",
       "      <th>children</th>\n",
       "      <th>charges</th>\n",
       "    </tr>\n",
       "  </thead>\n",
       "  <tbody>\n",
       "    <tr>\n",
       "      <th>count</th>\n",
       "      <td>1338.000000</td>\n",
       "      <td>1338.000000</td>\n",
       "      <td>1338.000000</td>\n",
       "      <td>1338.000000</td>\n",
       "    </tr>\n",
       "    <tr>\n",
       "      <th>mean</th>\n",
       "      <td>39.207025</td>\n",
       "      <td>30.663397</td>\n",
       "      <td>1.094918</td>\n",
       "      <td>13270.422265</td>\n",
       "    </tr>\n",
       "    <tr>\n",
       "      <th>std</th>\n",
       "      <td>14.049960</td>\n",
       "      <td>6.098187</td>\n",
       "      <td>1.205493</td>\n",
       "      <td>12110.011237</td>\n",
       "    </tr>\n",
       "    <tr>\n",
       "      <th>min</th>\n",
       "      <td>18.000000</td>\n",
       "      <td>15.960000</td>\n",
       "      <td>0.000000</td>\n",
       "      <td>1121.873900</td>\n",
       "    </tr>\n",
       "    <tr>\n",
       "      <th>25%</th>\n",
       "      <td>27.000000</td>\n",
       "      <td>26.296250</td>\n",
       "      <td>0.000000</td>\n",
       "      <td>4740.287150</td>\n",
       "    </tr>\n",
       "    <tr>\n",
       "      <th>50%</th>\n",
       "      <td>39.000000</td>\n",
       "      <td>30.400000</td>\n",
       "      <td>1.000000</td>\n",
       "      <td>9382.033000</td>\n",
       "    </tr>\n",
       "    <tr>\n",
       "      <th>75%</th>\n",
       "      <td>51.000000</td>\n",
       "      <td>34.693750</td>\n",
       "      <td>2.000000</td>\n",
       "      <td>16639.912515</td>\n",
       "    </tr>\n",
       "    <tr>\n",
       "      <th>max</th>\n",
       "      <td>64.000000</td>\n",
       "      <td>53.130000</td>\n",
       "      <td>5.000000</td>\n",
       "      <td>63770.428010</td>\n",
       "    </tr>\n",
       "  </tbody>\n",
       "</table>\n",
       "</div>"
      ],
      "text/plain": [
       "               age          bmi     children       charges\n",
       "count  1338.000000  1338.000000  1338.000000   1338.000000\n",
       "mean     39.207025    30.663397     1.094918  13270.422265\n",
       "std      14.049960     6.098187     1.205493  12110.011237\n",
       "min      18.000000    15.960000     0.000000   1121.873900\n",
       "25%      27.000000    26.296250     0.000000   4740.287150\n",
       "50%      39.000000    30.400000     1.000000   9382.033000\n",
       "75%      51.000000    34.693750     2.000000  16639.912515\n",
       "max      64.000000    53.130000     5.000000  63770.428010"
      ]
     },
     "execution_count": 11,
     "metadata": {},
     "output_type": "execute_result"
    }
   ],
   "source": [
    "insurance_df.info()\n",
    "insurance_df.describe()"
   ]
  },
  {
   "cell_type": "markdown",
   "metadata": {},
   "source": [
    "## Analysing the data"
   ]
  },
  {
   "cell_type": "markdown",
   "metadata": {},
   "source": [
    "### Distribution men & women"
   ]
  },
  {
   "cell_type": "code",
   "execution_count": 27,
   "metadata": {},
   "outputs": [
    {
     "name": "stdout",
     "output_type": "stream",
     "text": [
      "Count for female: 662 (49.48% of patients)\n",
      "Count for male: 676 (50.52% of patients)\n",
      "Distribution male/female is good balanced\n"
     ]
    }
   ],
   "source": [
    "count_man = insurance_df[insurance_df['sex']== 'male']['sex'].count()\n",
    "count_woman = insurance_df[insurance_df['sex']== 'female']['sex'].count()\n",
    "total_patients = count_man + count_woman\n",
    "print(f\"Count for female: {count_woman} ({100*count_woman/total_patients:.2f}% of patients)\")\n",
    "print(f\"Count for male: {count_man} ({100*count_man/total_patients:.2f}% of patients)\")\n",
    "print(\"Distribution male/female is good balanced\")"
   ]
  },
  {
   "cell_type": "markdown",
   "metadata": {},
   "source": [
    "### Average patient age"
   ]
  },
  {
   "cell_type": "code",
   "execution_count": 22,
   "metadata": {},
   "outputs": [
    {
     "name": "stdout",
     "output_type": "stream",
     "text": [
      "Average patient age: 39.21 years\n"
     ]
    }
   ],
   "source": [
    "mean_age = insurance_df['age'].mean()\n",
    "print(f\"Average patient age: {mean_age:.2f} years\")"
   ]
  },
  {
   "cell_type": "markdown",
   "metadata": {},
   "source": [
    "### Average age for patient with at least one child"
   ]
  },
  {
   "cell_type": "code",
   "execution_count": 95,
   "metadata": {},
   "outputs": [
    {
     "name": "stdout",
     "output_type": "stream",
     "text": [
      "Average age of a patient that already has one child at least is 39.8 years.\n"
     ]
    }
   ],
   "source": [
    "mean_age = insurance_df[insurance_df['children'] > 0]['age'].mean()\n",
    "print(f\"Average age of a patient that already has one child at least is {mean_age:.1f} years.\")"
   ]
  },
  {
   "cell_type": "markdown",
   "metadata": {},
   "source": [
    "### List of US Locations"
   ]
  },
  {
   "cell_type": "code",
   "execution_count": 67,
   "metadata": {},
   "outputs": [
    {
     "name": "stdout",
     "output_type": "stream",
     "text": [
      "There are 4 locations in the data:\n",
      "Northeast with 325 patients (24.3% of total)\n",
      "Southwest with 364 patients (27.2% of total)\n",
      "Southeast with 325 patients (24.3% of total)\n",
      "Northwest with 324 patients (24.2% of total)\n"
     ]
    }
   ],
   "source": [
    "us_locations = insurance_df['region'].unique()\n",
    "print(f\"There are {len(us_locations)} locations in the data:\")\n",
    "\n",
    "for i in range(len(us_locations)):\n",
    "    count = insurance_df[insurance_df['region']==us_locations[i]]['region'].count()\n",
    "    print(f\"{us_locations[i-1].title()} with {count} patients ({100*count/total_patients:.1f}% of total)\")\n",
    "        "
   ]
  },
  {
   "cell_type": "markdown",
   "metadata": {},
   "source": [
    "### Statistics of Medical Insurance Charges"
   ]
  },
  {
   "cell_type": "code",
   "execution_count": 90,
   "metadata": {},
   "outputs": [
    {
     "name": "stdout",
     "output_type": "stream",
     "text": [
      "Average yearly Medical Insurance Charges is 13270.42 US dollars.\n",
      "Minimum yearly Medical Insurance Charges is 1121.87 US dollars.\n",
      "Maximum yearly Medical Insurance Charges is 63770.43 US dollars.\n"
     ]
    }
   ],
   "source": [
    "mean_charge = insurance_df['charges'].mean()\n",
    "print(f\"Average yearly Medical Insurance Charges is {mean_charge:.2f} US dollars.\")\n",
    "\n",
    "min_charge = insurance_df['charges'].min()\n",
    "print(f\"Minimum yearly Medical Insurance Charges is {min_charge:.2f} US dollars.\")\n",
    "\n",
    "max_charge = insurance_df['charges'].max()\n",
    "print(f\"Maximum yearly Medical Insurance Charges is {max_charge:.2f} US dollars.\")"
   ]
  },
  {
   "cell_type": "markdown",
   "metadata": {},
   "source": [
    "### Comparing medical insurance charges of smokers and non-smokers"
   ]
  },
  {
   "cell_type": "code",
   "execution_count": 62,
   "metadata": {},
   "outputs": [
    {
     "name": "stdout",
     "output_type": "stream",
     "text": [
      "The data set has 274 smoker patients and 1064 non-smoker patients.\n",
      "A smoker patient pays on average for the medical insurance 32050.23 US dollars.\n",
      "A non-smoker patient pays on average for the medical insurance 8434.27 US dollars.\n",
      "Being smoker increases the yerly medical insurance charges by around 4 times.\n"
     ]
    }
   ],
   "source": [
    "num_smoker = insurance_df[insurance_df['smoker']=='yes']['smoker'].count()\n",
    "num_non_smoker = insurance_df[insurance_df['smoker']=='no']['smoker'].count()\n",
    "print(f\"The data set has {num_smoker} smoker patients and {num_non_smoker} non-smoker patients.\")\n",
    "\n",
    "mean_charge_smoker = insurance_df[insurance_df['smoker']=='yes']['charges'].mean()\n",
    "mean_charge_non_smoker = insurance_df[insurance_df['smoker']=='no']['charges'].mean()\n",
    "\n",
    "print(f\"A smoker patient pays on average for the medical insurance {mean_charge_smoker:.2f} US dollars.\")\n",
    "print(f\"A non-smoker patient pays on average for the medical insurance {mean_charge_non_smoker:.2f} US dollars.\")\n",
    "\n",
    "print(f\"Being smoker increases the yerly medical insurance charges by around {mean_charge_smoker/mean_charge_non_smoker:.0f} times.\")"
   ]
  },
  {
   "cell_type": "markdown",
   "metadata": {},
   "source": [
    "### Medical Insurance Charges per Region"
   ]
  },
  {
   "cell_type": "code",
   "execution_count": 75,
   "metadata": {},
   "outputs": [
    {
     "name": "stdout",
     "output_type": "stream",
     "text": [
      "The average yearly medical insurance in NORTHEAST is 12346.94 US dollars.\n",
      "The average yearly medical insurance in SOUTHWEST is 14735.41 US dollars.\n",
      "The average yearly medical insurance in SOUTHEAST is 12417.58 US dollars.\n",
      "The average yearly medical insurance in NORTHWEST is 13406.38 US dollars.\n"
     ]
    }
   ],
   "source": [
    "for i in range(len(us_locations)):\n",
    "    mean_region = insurance_df[insurance_df['region']==us_locations[i]]['charges'].mean()\n",
    "    print(f\"The average yearly medical insurance in {us_locations[i-1].upper()} is {mean_region:.2f} US dollars.\")"
   ]
  },
  {
   "cell_type": "markdown",
   "metadata": {},
   "source": [
    "### Medical Insurance Charges per patients with and without children"
   ]
  },
  {
   "cell_type": "code",
   "execution_count": 89,
   "metadata": {},
   "outputs": [
    {
     "name": "stdout",
     "output_type": "stream",
     "text": [
      "Patient without children pays on average for the medical insurance 12365.98 US dollars.\n",
      "Patient with at least 1 child pays on average for the medical insurance 13949.94 US dollars.\n"
     ]
    }
   ],
   "source": [
    "no_children_mean_charge = insurance_df[insurance_df['children']==0]['charges'].mean()\n",
    "with_children_mean_charge = insurance_df[insurance_df['children']>0]['charges'].mean()\n",
    "\n",
    "print(f\"Patient without children pays on average for the medical insurance {no_children_mean_charge:.2f} US dollars.\")\n",
    "print(f\"Patient with at least 1 child pays on average for the medical insurance {with_children_mean_charge:.2f} US dollars.\")"
   ]
  },
  {
   "cell_type": "markdown",
   "metadata": {},
   "source": [
    "### Patients with maximum and minimum insurance charge"
   ]
  },
  {
   "cell_type": "code",
   "execution_count": 92,
   "metadata": {},
   "outputs": [
    {
     "name": "stdout",
     "output_type": "stream",
     "text": [
      "     age   sex    bmi  children smoker     region    charges\n",
      "940   18  male  23.21         0     no  southeast  1121.8739\n",
      "     age     sex    bmi  children smoker     region      charges\n",
      "543   54  female  47.41         0    yes  southeast  63770.42801\n"
     ]
    }
   ],
   "source": [
    "print(insurance_df[insurance_df['charges'] == min_charge])\n",
    "print(insurance_df[insurance_df['charges'] == max_charge])"
   ]
  },
  {
   "cell_type": "markdown",
   "metadata": {},
   "source": [
    "### Impact of the BMI in the insurance price\n",
    "\n",
    "|BMI | Weight Status|\n",
    "|:-:|:-:| \n",
    "|Below 18.5 | Underweight|\n",
    "|18.5 — 24.9 | Healthy Weight|\n",
    "|25.0 — 29.9 |Overweight|\n",
    "|30.0 and above | Obesity|\n",
    "\n"
   ]
  },
  {
   "cell_type": "code",
   "execution_count": 104,
   "metadata": {},
   "outputs": [
    {
     "name": "stdout",
     "output_type": "stream",
     "text": [
      "Patient with Underrweight Weight pays on average for the medical insurance 8852.20 US dollars.\n",
      "Patient with Healthy Weight pays on average for the medical insurance 10379.50 US dollars.\n",
      "Patient with Overweight pays on average for the medical insurance 10993.99 US dollars.\n",
      "Patient with Obesity pays on average for the medical insurance 15552.34 US dollars.\n"
     ]
    }
   ],
   "source": [
    "mean_underweight = insurance_df[(insurance_df['bmi'] < 18.5)]['charges'].mean()\n",
    "mean_healthy = insurance_df[(insurance_df['bmi'] >= 18.5) & (insurance_df['bmi'] <= 24.9)]['charges'].mean()\n",
    "mean_overweight = insurance_df[(insurance_df['bmi'] >= 25.0) & (insurance_df['bmi'] <= 29.9)]['charges'].mean()\n",
    "mean_obesity = insurance_df[(insurance_df['bmi'] >= 30)]['charges'].mean()\n",
    "\n",
    "print(f\"Patient with Underrweight Weight pays on average for the medical insurance {mean_underweight:.2f} US dollars.\")\n",
    "print(f\"Patient with Healthy Weight pays on average for the medical insurance {mean_healthy:.2f} US dollars.\")\n",
    "print(f\"Patient with Overweight pays on average for the medical insurance {mean_overweight:.2f} US dollars.\")\n",
    "print(f\"Patient with Obesity pays on average for the medical insurance {mean_obesity:.2f} US dollars.\")\n"
   ]
  }
 ],
 "metadata": {
  "kernelspec": {
   "display_name": "Python 3 (ipykernel)",
   "language": "python",
   "name": "python3"
  },
  "language_info": {
   "codemirror_mode": {
    "name": "ipython",
    "version": 3
   },
   "file_extension": ".py",
   "mimetype": "text/x-python",
   "name": "python",
   "nbconvert_exporter": "python",
   "pygments_lexer": "ipython3",
   "version": "3.10.6"
  },
  "toc": {
   "base_numbering": 1,
   "nav_menu": {},
   "number_sections": true,
   "sideBar": true,
   "skip_h1_title": false,
   "title_cell": "Table of Contents",
   "title_sidebar": "Contents",
   "toc_cell": false,
   "toc_position": {},
   "toc_section_display": true,
   "toc_window_display": false
  }
 },
 "nbformat": 4,
 "nbformat_minor": 4
}
